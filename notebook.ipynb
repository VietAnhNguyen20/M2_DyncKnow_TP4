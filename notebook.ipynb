{
 "cells": [
  {
   "cell_type": "code",
   "execution_count": 2,
   "metadata": {},
   "outputs": [],
   "source": [
    "from utils import *"
   ]
  },
  {
   "cell_type": "markdown",
   "metadata": {},
   "source": [
    "## 1. Create the database.txt file and evalutation.txt"
   ]
  },
  {
   "cell_type": "code",
   "execution_count": 3,
   "metadata": {},
   "outputs": [],
   "source": [
    "# input_file_path = 'data.csv'\n",
    "# output_file_1_path = 'database.txt'\n",
    "# output_file_2_path = 'evaluation.txt'\n",
    "# split_ratio = 0.2\n",
    "\n",
    "# split_data(input_file_path, output_file_1_path, output_file_2_path, split_ratio)"
   ]
  },
  {
   "cell_type": "code",
   "execution_count": null,
   "metadata": {},
   "outputs": [],
   "source": [
    "def predict(sample, database):\n",
    "    #return the price prediction for the sample based on the database\n",
    "    #find the k nearest neighbors in database\n",
    "    #adapt with similarity and disimilarity with the sample\n",
    "    #average the values find for the k nearest neighbors\n",
    "    #return the average as the prediction"
   ]
  },
  {
   "cell_type": "code",
   "execution_count": 3,
   "metadata": {},
   "outputs": [
    {
     "name": "stdout",
     "output_type": "stream",
     "text": [
      "                       0          1    2     3     4      5    6  7  8  9   \\\n",
      "0     2014-05-09 00:00:00   376000.0  3.0   2.0  1340   1384  3.0  0  0  3   \n",
      "1     2014-07-03 00:00:00  2351956.0  4.0  4.25  5010  19412  2.0  0  1  3   \n",
      "2     2014-07-09 00:00:00   359000.0  3.0   1.5  1550   4980  1.0  0  0  3   \n",
      "3     2014-07-08 00:00:00   600000.0  3.0  2.25  1900  46609  1.5  0  0  4   \n",
      "4     2014-05-12 00:00:00   360000.0  4.0   2.0  1730   5500  1.0  0  0  5   \n",
      "...                   ...        ...  ...   ...   ...    ...  ... .. .. ..   \n",
      "3675  2014-06-02 00:00:00   789000.0  3.0   3.0  3740  39640  2.0  0  2  3   \n",
      "3676  2014-05-28 00:00:00   782000.0  4.0   3.5  3910   8095  2.0  0  0  3   \n",
      "3677  2014-05-23 00:00:00   449950.0  3.0   2.0  1560   4080  2.0  0  0  3   \n",
      "3678  2014-05-29 00:00:00   246500.0  3.0   1.5  1270  11600  1.0  0  0  4   \n",
      "3679  2014-05-20 00:00:00   458000.0  1.0  2.25  2140  10350  1.0  0  0  3   \n",
      "\n",
      "        10    11    12    13                        14             15  \\\n",
      "0     1340     0  2008     0   9245-9249 Fremont Ave N        Seattle   \n",
      "1     4000  1010  2014     0         6410 E Mercer Way  Mercer Island   \n",
      "2     1080   470  1978     0     10304 Interlake Ave N        Seattle   \n",
      "3     1440   460  1969     0        17308 167th Ave NE    Woodinville   \n",
      "4     1010   720  1943     0          7953 14th Ave SW        Seattle   \n",
      "...    ...   ...   ...   ...                       ...            ...   \n",
      "3675  3740     0  1991     0  9900 SW Quartermaster Dr         Vashon   \n",
      "3676  3130   780  2007     0    4801-4999 229th Ave SE       Issaquah   \n",
      "3677  1560     0  1923  1982            828 NE 83rd St        Seattle   \n",
      "3678  1270     0  1964     0         10804 SE 218th St           Kent   \n",
      "3679  1470   670  1976     0        14634 128th Ave NE    Woodinville   \n",
      "\n",
      "            16   17  \n",
      "0     WA 98103  USA  \n",
      "1     WA 98040  USA  \n",
      "2     WA 98133  USA  \n",
      "3     WA 98072  USA  \n",
      "4     WA 98106  USA  \n",
      "...        ...  ...  \n",
      "3675  WA 98070  USA  \n",
      "3676  WA 98029  USA  \n",
      "3677  WA 98115  USA  \n",
      "3678  WA 98031  USA  \n",
      "3679  WA 98072  USA  \n",
      "\n",
      "[3680 rows x 18 columns]\n"
     ]
    }
   ],
   "source": [
    "database = load_data('database.txt')\n",
    "evaluation = load_data('evaluation.txt')"
   ]
  }
 ],
 "metadata": {
  "kernelspec": {
   "display_name": "M2_DM",
   "language": "python",
   "name": "python3"
  },
  "language_info": {
   "codemirror_mode": {
    "name": "ipython",
    "version": 3
   },
   "file_extension": ".py",
   "mimetype": "text/x-python",
   "name": "python",
   "nbconvert_exporter": "python",
   "pygments_lexer": "ipython3",
   "version": "3.10.12"
  }
 },
 "nbformat": 4,
 "nbformat_minor": 2
}
