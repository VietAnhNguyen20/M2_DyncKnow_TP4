{
 "cells": [
  {
   "cell_type": "code",
   "execution_count": 2,
   "metadata": {},
   "outputs": [],
   "source": [
    "from utils import *"
   ]
  },
  {
   "cell_type": "markdown",
   "metadata": {},
   "source": [
    "## 1. Create the database.txt file and evalutation.txt"
   ]
  },
  {
   "cell_type": "code",
   "execution_count": 3,
   "metadata": {},
   "outputs": [],
   "source": [
    "# input_file_path = 'data.csv'\n",
    "# output_file_1_path = 'database.txt'\n",
    "# output_file_2_path = 'evaluation.txt'\n",
    "# split_ratio = 0.2\n",
    "\n",
    "# split_data(input_file_path, output_file_1_path, output_file_2_path, split_ratio)"
   ]
  }
 ],
 "metadata": {
  "kernelspec": {
   "display_name": "M2_DM",
   "language": "python",
   "name": "python3"
  },
  "language_info": {
   "codemirror_mode": {
    "name": "ipython",
    "version": 3
   },
   "file_extension": ".py",
   "mimetype": "text/x-python",
   "name": "python",
   "nbconvert_exporter": "python",
   "pygments_lexer": "ipython3",
   "version": "3.12.0"
  }
 },
 "nbformat": 4,
 "nbformat_minor": 2
}
