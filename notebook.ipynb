{
 "cells": [
  {
   "cell_type": "code",
   "execution_count": null,
   "metadata": {},
   "outputs": [],
   "source": [
    "import random as rand\n",
    "import pandas as pd\n",
    "\n",
    "#Fix the randomness\n",
    "seed = 1234\n",
    "rand.seed(seed)\n",
    "\n",
    "import pandas as pd\n",
    "import random\n",
    "\n",
    "def load_data(input_file):\n",
    "    data = pd.read_csv(input_file)\n",
    "    return data\n",
    "\n",
    "def split_data(input_file, output_file_1, output_file_2, ratio_split=0.2):\n",
    "    df = pd.read_csv(input_file)\n",
    "\n",
    "    # Remove columns: date, country, street (Since every data is collected inside USA)\n",
    "    df = df.drop(columns=[\"date\", \"country\", \"street\"])\n",
    "\n",
    "    # 1. Filter noisy data (house with prices == 0.0)\n",
    "    df = df[df[\"price\"] > 100]\n",
    "\n",
    "    # 2. Remove the records belong to the cities that has less than 5 instances\n",
    "    city_counts = df['city'].value_counts()\n",
    "    \n",
    "    cities_to_keep = city_counts[city_counts >= 5].index\n",
    "    df = df[df['city'].isin(cities_to_keep)]\n",
    "\n",
    "\n",
    "    df = df.sample(frac=1, random_state=seed).reset_index(drop=True)\n",
    "    total_rows = len(df)\n",
    "    split_index = int(total_rows * (1 - ratio_split))\n",
    "\n",
    "    set_1 = df.iloc[:split_index, :]\n",
    "    set_2 = df.iloc[split_index:, :]\n",
    "\n",
    "    set_1.to_csv(output_file_1, index=False, header = True)\n",
    "    set_2.to_csv(output_file_2, index=False, header = True)\n",
    "    return None"
   ]
  },
  {
   "cell_type": "markdown",
   "metadata": {},
   "source": [
    "## 1. Create the database.txt file and evalutation.txt"
   ]
  },
  {
   "cell_type": "code",
   "execution_count": null,
   "metadata": {},
   "outputs": [],
   "source": [
    "input_file_path = 'data.csv'\n",
    "output_file_1_path = 'database.csv'\n",
    "output_file_2_path = 'evaluation.csv'\n",
    "split_ratio = 0.2\n",
    "\n",
    "split_data(input_file_path, output_file_1_path, output_file_2_path, split_ratio)"
   ]
  },
  {
   "cell_type": "markdown",
   "metadata": {},
   "source": [
    "## 2. Load the dataset "
   ]
  },
  {
   "cell_type": "code",
   "execution_count": null,
   "metadata": {},
   "outputs": [],
   "source": [
    "database = load_data('database.csv')\n",
    "# #Normalize the data:\n",
    "# database=(database-database.min())/(database.max()-database.min())\n",
    "\n",
    "evaluation = load_data('evaluation.csv')\n",
    "\n",
    "#Create a dictionary for weights:\n",
    "weight_dist = {}\n",
    "for key in list(database.columns):\n",
    "    if key not in [\"city\", \"statezip\", \"price\"]:\n",
    "        weight_dist[key] = 1.0\n",
    "\n",
    "#Pick a random sample from database\n",
    "sample = database.iloc[2828]"
   ]
  },
  {
   "cell_type": "code",
   "execution_count": null,
   "metadata": {},
   "outputs": [],
   "source": [
    "print(database.head(4))\n",
    "print(\"---------------------------------\")\n",
    "print(f\"A sample : {sample}\")\n",
    "print(\"---------------------------------\")\n",
    "print(f\"The weight dictionary : {weight_dist}\")"
   ]
  },
  {
   "cell_type": "code",
   "execution_count": null,
   "metadata": {},
   "outputs": [],
   "source": [
    "communities = database.groupby(['city', 'statezip']).size().reset_index(name='numberOfInstances')\n",
    "print(communities) #102 communities"
   ]
  },
  {
   "cell_type": "code",
   "execution_count": null,
   "metadata": {},
   "outputs": [],
   "source": [
    "communities_dict = {}\n",
    "for city, city_group in database.groupby('city'):\n",
    "    city_dict = {}\n",
    "    for (zipcode, zip_group) in city_group.groupby('statezip'):\n",
    "        city_dict[zipcode] = zip_group.drop(columns=['city', 'statezip'])\n",
    "    communities_dict[city] = city_dict\n",
    "\n",
    "# Testing\n",
    "print(communities_dict[\"Algona\"][\"WA 98001\"])"
   ]
  },
  {
   "cell_type": "code",
   "execution_count": null,
   "metadata": {},
   "outputs": [],
   "source": [
    "def find_community(sample, communities_dict, neighborhood_mini=5):\n",
    "    #Return a dataframe\n",
    "    sample_zipcode = sample['statezip']\n",
    "    sample_city = sample['city']\n",
    "    closest_zone_samples = communities_dict[sample_city][sample_zipcode]\n",
    "    if(len(closest_zone_samples) > neighborhood_mini):\n",
    "        return closest_zone_samples\n",
    "    else:\n",
    "        closest_zone_samples = pd.DataFrame()\n",
    "        for statezip in communities_dict[sample_city]:\n",
    "            closest_zone_samples = pd.concat([closest_zone_samples, communities_dict[sample_city][statezip]])\n",
    "        return closest_zone_samples\n",
    "\n",
    "def find_k_neighbors(sample, database, k=5):\n",
    "    closest_zone_samples = find_community(sample, database)\n",
    "    samples_distance = []\n",
    "    for neighbor in closest_zone_samples:\n",
    "        samples_distance.append(cal_distance(sample, neighbor))\n",
    "    samples_distance.sort()\n",
    "    return samples_distance[:k]\n",
    "\n",
    "def cal_distance(sample, another_sample, weight_dist = weight_dist):\n",
    "    difference = 0.0\n",
    "    for k,v in weight_dist.items():\n",
    "        difference += v * (sample[k] - another_sample[k])\n",
    "\n",
    "    return difference\n",
    "\n",
    "def adapt_price_from_dissimilarities(sample, neighbor, weight_dict):\n",
    "    init_price = neighbor['price']\n",
    "    square_meter_price = init_price / neighbor['sqft_living']\n",
    "    for key in weight_dict:\n",
    "        if key == 'price':\n",
    "            init_price += square_meter_price * (sample['sqft_living'] - neighbor['sqft_living'])\n",
    "    return init_price"
   ]
  },
  {
   "cell_type": "code",
   "execution_count": null,
   "metadata": {},
   "outputs": [],
   "source": [
    "find_community(sample, communities_dict, neighborhood_mini=3)"
   ]
  },
  {
   "cell_type": "code",
   "execution_count": null,
   "metadata": {},
   "outputs": [],
   "source": [
    "print(cal_distance(database.iloc[1], database.iloc[20]))"
   ]
  },
  {
   "cell_type": "code",
   "execution_count": null,
   "metadata": {},
   "outputs": [],
   "source": []
  }
 ],
 "metadata": {
  "kernelspec": {
   "display_name": "M2_DM",
   "language": "python",
   "name": "python3"
  },
  "language_info": {
   "codemirror_mode": {
    "name": "ipython",
    "version": 3
   },
   "file_extension": ".py",
   "mimetype": "text/x-python",
   "name": "python",
   "nbconvert_exporter": "python",
   "pygments_lexer": "ipython3",
   "version": "3.8.18"
  }
 },
 "nbformat": 4,
 "nbformat_minor": 2
}
